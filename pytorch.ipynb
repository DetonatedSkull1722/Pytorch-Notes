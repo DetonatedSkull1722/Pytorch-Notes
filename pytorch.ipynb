{
  "nbformat": 4,
  "nbformat_minor": 0,
  "metadata": {
    "colab": {
      "provenance": [],
      "authorship_tag": "ABX9TyPRHY04X0impVC9RL4POHsh",
      "include_colab_link": true
    },
    "kernelspec": {
      "name": "python3",
      "display_name": "Python 3"
    },
    "language_info": {
      "name": "python"
    }
  },
  "cells": [
    {
      "cell_type": "markdown",
      "metadata": {
        "id": "view-in-github",
        "colab_type": "text"
      },
      "source": [
        "<a href=\"https://colab.research.google.com/github/kip1722/Pytorch-Notes/blob/main/pytorch.ipynb\" target=\"_parent\"><img src=\"https://colab.research.google.com/assets/colab-badge.svg\" alt=\"Open In Colab\"/></a>"
      ]
    },
    {
      "cell_type": "markdown",
      "source": [
        "#Deep Learning with pytorch"
      ],
      "metadata": {
        "id": "8FURr7k54CkL"
      }
    },
    {
      "cell_type": "markdown",
      "source": [
        "###Tensors\n",
        "Tensors are any numerical interpretation of an input like the numerical representation of an Image"
      ],
      "metadata": {
        "id": "IXGh0bvmNa5P"
      }
    },
    {
      "cell_type": "code",
      "source": [],
      "metadata": {
        "id": "H3u4seRH4Q6b",
        "colab": {
          "base_uri": "https://localhost:8080/"
        },
        "outputId": "5947d20d-d792-4849-f92a-200a3a42e5df"
      },
      "execution_count": 2,
      "outputs": [
        {
          "output_type": "stream",
          "name": "stdout",
          "text": [
            "fatal: not a git repository (or any of the parent directories): .git\n"
          ]
        }
      ]
    },
    {
      "cell_type": "code",
      "source": [],
      "metadata": {
        "id": "fOmBHvE1SftD"
      },
      "execution_count": null,
      "outputs": []
    }
  ]
}